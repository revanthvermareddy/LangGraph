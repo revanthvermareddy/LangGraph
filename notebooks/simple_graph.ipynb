{
 "cells": [
  {
   "cell_type": "markdown",
   "metadata": {},
   "source": [
    "# Simple LangGraph\n",
    "\n",
    "We start with a graph with 2 nodes which are connected by a single edge"
   ]
  },
  {
   "cell_type": "code",
   "execution_count": 1,
   "metadata": {},
   "outputs": [
    {
     "name": "stdout",
     "output_type": "stream",
     "text": [
      "Requirement already satisfied: langgraph in /Users/revanth/developer/Personal/Langchain/LangGraph/.venv/lib/python3.11/site-packages (0.0.26)\n",
      "Requirement already satisfied: langchain-core<0.2.0,>=0.1.25 in /Users/revanth/developer/Personal/Langchain/LangGraph/.venv/lib/python3.11/site-packages (from langgraph) (0.1.31)\n",
      "Requirement already satisfied: PyYAML>=5.3 in /Users/revanth/developer/Personal/Langchain/LangGraph/.venv/lib/python3.11/site-packages (from langchain-core<0.2.0,>=0.1.25->langgraph) (6.0.1)\n",
      "Requirement already satisfied: anyio<5,>=3 in /Users/revanth/developer/Personal/Langchain/LangGraph/.venv/lib/python3.11/site-packages (from langchain-core<0.2.0,>=0.1.25->langgraph) (4.3.0)\n",
      "Requirement already satisfied: jsonpatch<2.0,>=1.33 in /Users/revanth/developer/Personal/Langchain/LangGraph/.venv/lib/python3.11/site-packages (from langchain-core<0.2.0,>=0.1.25->langgraph) (1.33)\n",
      "Requirement already satisfied: langsmith<0.2.0,>=0.1.0 in /Users/revanth/developer/Personal/Langchain/LangGraph/.venv/lib/python3.11/site-packages (from langchain-core<0.2.0,>=0.1.25->langgraph) (0.1.24)\n",
      "Requirement already satisfied: packaging<24.0,>=23.2 in /Users/revanth/developer/Personal/Langchain/LangGraph/.venv/lib/python3.11/site-packages (from langchain-core<0.2.0,>=0.1.25->langgraph) (23.2)\n",
      "Requirement already satisfied: pydantic<3,>=1 in /Users/revanth/developer/Personal/Langchain/LangGraph/.venv/lib/python3.11/site-packages (from langchain-core<0.2.0,>=0.1.25->langgraph) (2.6.4)\n",
      "Requirement already satisfied: requests<3,>=2 in /Users/revanth/developer/Personal/Langchain/LangGraph/.venv/lib/python3.11/site-packages (from langchain-core<0.2.0,>=0.1.25->langgraph) (2.31.0)\n",
      "Requirement already satisfied: tenacity<9.0.0,>=8.1.0 in /Users/revanth/developer/Personal/Langchain/LangGraph/.venv/lib/python3.11/site-packages (from langchain-core<0.2.0,>=0.1.25->langgraph) (8.2.3)\n",
      "Requirement already satisfied: idna>=2.8 in /Users/revanth/developer/Personal/Langchain/LangGraph/.venv/lib/python3.11/site-packages (from anyio<5,>=3->langchain-core<0.2.0,>=0.1.25->langgraph) (3.6)\n",
      "Requirement already satisfied: sniffio>=1.1 in /Users/revanth/developer/Personal/Langchain/LangGraph/.venv/lib/python3.11/site-packages (from anyio<5,>=3->langchain-core<0.2.0,>=0.1.25->langgraph) (1.3.1)\n",
      "Requirement already satisfied: jsonpointer>=1.9 in /Users/revanth/developer/Personal/Langchain/LangGraph/.venv/lib/python3.11/site-packages (from jsonpatch<2.0,>=1.33->langchain-core<0.2.0,>=0.1.25->langgraph) (2.4)\n",
      "Requirement already satisfied: orjson<4.0.0,>=3.9.14 in /Users/revanth/developer/Personal/Langchain/LangGraph/.venv/lib/python3.11/site-packages (from langsmith<0.2.0,>=0.1.0->langchain-core<0.2.0,>=0.1.25->langgraph) (3.9.15)\n",
      "Requirement already satisfied: annotated-types>=0.4.0 in /Users/revanth/developer/Personal/Langchain/LangGraph/.venv/lib/python3.11/site-packages (from pydantic<3,>=1->langchain-core<0.2.0,>=0.1.25->langgraph) (0.6.0)\n",
      "Requirement already satisfied: pydantic-core==2.16.3 in /Users/revanth/developer/Personal/Langchain/LangGraph/.venv/lib/python3.11/site-packages (from pydantic<3,>=1->langchain-core<0.2.0,>=0.1.25->langgraph) (2.16.3)\n",
      "Requirement already satisfied: typing-extensions>=4.6.1 in /Users/revanth/developer/Personal/Langchain/LangGraph/.venv/lib/python3.11/site-packages (from pydantic<3,>=1->langchain-core<0.2.0,>=0.1.25->langgraph) (4.10.0)\n",
      "Requirement already satisfied: charset-normalizer<4,>=2 in /Users/revanth/developer/Personal/Langchain/LangGraph/.venv/lib/python3.11/site-packages (from requests<3,>=2->langchain-core<0.2.0,>=0.1.25->langgraph) (3.3.2)\n",
      "Requirement already satisfied: urllib3<3,>=1.21.1 in /Users/revanth/developer/Personal/Langchain/LangGraph/.venv/lib/python3.11/site-packages (from requests<3,>=2->langchain-core<0.2.0,>=0.1.25->langgraph) (2.2.1)\n",
      "Requirement already satisfied: certifi>=2017.4.17 in /Users/revanth/developer/Personal/Langchain/LangGraph/.venv/lib/python3.11/site-packages (from requests<3,>=2->langchain-core<0.2.0,>=0.1.25->langgraph) (2024.2.2)\n"
     ]
    }
   ],
   "source": [
    "!pip install langgraph"
   ]
  },
  {
   "cell_type": "code",
   "execution_count": null,
   "metadata": {},
   "outputs": [],
   "source": [
    "import langgraph"
   ]
  },
  {
   "cell_type": "code",
   "execution_count": 2,
   "metadata": {},
   "outputs": [],
   "source": [
    "# functions\n",
    "\n",
    "def function_1(input_1):\n",
    "    return f\"{input_1} Hi\"\n",
    "\n",
    "def function_2(input_2):\n",
    "    return f\"{input_2} there\""
   ]
  },
  {
   "cell_type": "markdown",
   "metadata": {},
   "source": [
    "## Constructing the graph"
   ]
  },
  {
   "cell_type": "code",
   "execution_count": 3,
   "metadata": {},
   "outputs": [],
   "source": [
    "# define a langchain graph\n",
    "\n",
    "from langgraph.graph import Graph\n",
    "\n",
    "workflow = Graph()\n",
    "\n",
    "workflow.add_node('node_1', function_1)\n",
    "workflow.add_node('node_2', function_2)\n",
    "\n",
    "workflow.add_edge('node_1', 'node_2')\n",
    "\n",
    "workflow.set_entry_point('node_1')\n",
    "workflow.set_finish_point('node_2')\n",
    "\n",
    "app = workflow.compile()"
   ]
  },
  {
   "cell_type": "markdown",
   "metadata": {},
   "source": []
  },
  {
   "cell_type": "code",
   "execution_count": 6,
   "metadata": {},
   "outputs": [
    {
     "data": {
      "text/plain": [
       "'hello Hi there'"
      ]
     },
     "execution_count": 6,
     "metadata": {},
     "output_type": "execute_result"
    }
   ],
   "source": [
    "# invoking the graph with an input\n",
    "\n",
    "app.invoke('hello')"
   ]
  },
  {
   "cell_type": "code",
   "execution_count": 5,
   "metadata": {},
   "outputs": [
    {
     "name": "stdout",
     "output_type": "stream",
     "text": [
      "Output from node 'node_1':\n",
      "---\n",
      "hello Hi\n",
      "\n",
      "---\n",
      "\n",
      "Output from node 'node_2':\n",
      "---\n",
      "hello Hi there\n",
      "\n",
      "---\n",
      "\n",
      "Output from node '__end__':\n",
      "---\n",
      "hello Hi there\n",
      "\n",
      "---\n",
      "\n"
     ]
    }
   ],
   "source": [
    "# print the output at each stage\n",
    "\n",
    "input = \"hello\"\n",
    "for output in app.stream(input=input):\n",
    "    # stream() yields dictionaries with output keyed by node name\n",
    "    for key, val in output.items():\n",
    "        print(f\"Output from node '{key}':\")\n",
    "        print('---')\n",
    "        print(val)\n",
    "    print('\\n---\\n')"
   ]
  }
 ],
 "metadata": {
  "kernelspec": {
   "display_name": ".venv",
   "language": "python",
   "name": "python3"
  },
  "language_info": {
   "codemirror_mode": {
    "name": "ipython",
    "version": 3
   },
   "file_extension": ".py",
   "mimetype": "text/x-python",
   "name": "python",
   "nbconvert_exporter": "python",
   "pygments_lexer": "ipython3",
   "version": "3.11.3"
  }
 },
 "nbformat": 4,
 "nbformat_minor": 2
}
